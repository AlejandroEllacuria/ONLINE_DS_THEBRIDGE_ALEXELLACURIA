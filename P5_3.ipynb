{
 "cells": [
  {
   "cell_type": "markdown",
   "id": "da749997-4ed1-4a28-867f-e7a5a869b3f3",
   "metadata": {},
   "source": [
    "Ejercicio 1\n",
    "Para este ejercicio vamos a poner en práctica las funciones built in.\n",
    "\n",
    "Calcula el máximo de la lista: [4, 6, 8, -1]\n",
    "Suma todos los elementos de la lista anterior\n",
    "Redondea este float a 3 dígitos decimales: 63.451256965\n",
    "Valor absoluto de: -74"
   ]
  },
  {
   "cell_type": "code",
   "execution_count": null,
   "id": "87bf4db2-ec0c-412c-9aff-e04cc479adb3",
   "metadata": {},
   "outputs": [],
   "source": [
    "num = [4,6,8,-1]\n",
    "num.sort()\n",
    "print (\"El numero mayor es :\" + str(num[-1]))\n",
    "#Suma todos los elementos de la lista anterior\n",
    "\n",
    "numTotal = 0 \n",
    "num = [4,6,8,-1]\n",
    "i = 0\n",
    "numHasta = len(num)\n",
    "print (\"len(num): \" + str(len(num)))\n",
    "\n",
    "for i in range(len(num)-1):\n",
    "    numTotal = numTotal + num[i]\n",
    "    \n",
    "print (\"El sumatorio es :\" + str(numTotal))\n",
    "    \n",
    "#Redondea este floatnumTotal = numTotal + num[] a 3 dígitos decimales: 63.451256965\n",
    "num=63.451256965\n",
    "round(num, 3)\n",
    "print (\"Redondeo: \" + str(round(num, 3)))\n",
    "#Valor absoluto de: -74\n",
    "\n",
    "c = abs(-74)\n",
    "print (\"Absoluto: \" + str(c))"
   ]
  },
  {
   "cell_type": "markdown",
   "id": "80dd112c-f077-4319-aeed-8711f41816d0",
   "metadata": {},
   "source": [
    "Ejercicio 2\n",
    "Para el siguiente string se pide imprimir por pantalla los siguientes casos\n",
    "\n",
    "\"En un lugar de la Mancha, de cuyo nombre no quiero acordarme.\"\n",
    "Pásalo todo a mayúsculas\n",
    "Pásalo todo a minúsculas\n",
    "Solo la primera letra de cada palabra en mayúscula, el resto en minúscula\n",
    "Crea una lista dividiéndolo por sus espacios\n",
    "Sustituye las comas , por puntos y comas ;\n",
    "Elimina las a minúsculas"
   ]
  },
  {
   "cell_type": "code",
   "execution_count": null,
   "id": "e6f147b9-c2a8-45f7-ae6e-56ef1317cf5e",
   "metadata": {},
   "outputs": [],
   "source": [
    "strCadena = \"En un lugar de la Mancha, de cuyo nombre no quiero acordarme.\"\n",
    "#Pásalo todo a mayúsculas\n",
    "strCadMay = strCadena.upper()\n",
    "print (\"Mayusculas: \" + strCadMay)\n",
    "#Pásalo todo a minúsculas\n",
    "strCadMin = strCadena.lower()\n",
    "print (\"Minusculas: \" + strCadMin)"
   ]
  },
  {
   "cell_type": "code",
   "execution_count": null,
   "id": "7efa1214-f521-411d-a67e-a5d30d45d36b",
   "metadata": {},
   "outputs": [],
   "source": [
    "#Solo la primera letra de cada palabra en mayúscula, el resto en minúscula\n",
    "strCadena = \"En un lugar de la Mancha, de cuyo nombre no quiero acordarme.\"\n",
    "frase_en_mayusculas = strCadena.title()\n",
    "print (frase_en_mayusculas)"
   ]
  },
  {
   "cell_type": "code",
   "execution_count": null,
   "id": "35aa7a27-96f6-4de7-b9ab-de86b2be1acc",
   "metadata": {},
   "outputs": [],
   "source": [
    "#Crea una lista dividiéndolo por sus espacios\n",
    "strCadena = \"En un lugar de la Mancha, de cuyo nombre no quiero acordarme.\"\n",
    "lista = strCadena.split(\" \")  # Divide por espacios\n",
    "print(lista)  # Salida: ['Python', 'es', 'genial'"
   ]
  },
  {
   "cell_type": "code",
   "execution_count": null,
   "id": "6bf8ad43-6a5e-4d58-a5dd-dd6cc278d465",
   "metadata": {},
   "outputs": [],
   "source": [
    "#Sustituye las comas , por puntos y comas ;\n",
    "strCadena = \"En un lugar de la Mancha, de cuyo nombre no quiero acordarme.\"\n",
    "strCadena = strCadena.replace(\",\", \";\")  \n",
    "print(strCadena)  # Salida: ['P', 'y', 't', 'h', 'o', 'n']\n"
   ]
  },
  {
   "cell_type": "code",
   "execution_count": null,
   "id": "f0cd9c8f-2132-40e2-b683-43d9a2695139",
   "metadata": {},
   "outputs": [],
   "source": [
    "#Elimina las a minúsculas\n",
    "strCadena = \"En un lugar de la Mancha, de cuyo nombre no quiero acordarme.\"\n",
    "resultado = ''.join(c for c in strCadena if not c.islower())\n",
    "print(resultado) "
   ]
  },
  {
   "cell_type": "markdown",
   "id": "5fe9e516-671e-4af8-806b-a443db8456c2",
   "metadata": {},
   "source": [
    "Ejercicio 3\n",
    "Crea una lista con 3 elementos numéricos\n",
    "Añade un cuarto elemento\n",
    "Calcula la suma de todos\n",
    "Elimina el segundo elemento de la lista\n",
    "Añade otro elemento en la posicion 3 de la lista\n",
    "Crea otra lista con 4 elementos y concaténala a la que ya tenías.\n",
    "Ordena la lista de menor a mayor.\n",
    "BONUS: Ordena la lista de mayor a menor.\n",
    "(PISTA: Para hacer 8, tendrás que buscar en la información del método...)\n",
    "NOTA: Pinta por pantalla el resultado de cada paso."
   ]
  },
  {
   "cell_type": "code",
   "execution_count": null,
   "id": "7fb65313-5ea6-4bb2-8d9e-68cda9e49a1f",
   "metadata": {},
   "outputs": [],
   "source": []
  },
  {
   "cell_type": "code",
   "execution_count": null,
   "id": "0d27e449-af70-4ab1-9dfd-04f86f950039",
   "metadata": {},
   "outputs": [],
   "source": []
  },
  {
   "cell_type": "code",
   "execution_count": null,
   "id": "e036cf29-3537-405b-9ce4-7b65ff17b2e5",
   "metadata": {},
   "outputs": [],
   "source": []
  },
  {
   "cell_type": "code",
   "execution_count": null,
   "id": "f2b49260-9d3f-462c-a1e5-e0e67b76aed5",
   "metadata": {},
   "outputs": [],
   "source": []
  }
 ],
 "metadata": {
  "kernelspec": {
   "display_name": "Python 3 (ipykernel)",
   "language": "python",
   "name": "python3"
  },
  "language_info": {
   "codemirror_mode": {
    "name": "ipython",
    "version": 3
   },
   "file_extension": ".py",
   "mimetype": "text/x-python",
   "name": "python",
   "nbconvert_exporter": "python",
   "pygments_lexer": "ipython3",
   "version": "3.13.7"
  }
 },
 "nbformat": 4,
 "nbformat_minor": 5
}
