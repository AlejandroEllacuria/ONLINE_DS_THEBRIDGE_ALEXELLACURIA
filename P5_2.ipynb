{
 "cells": [
  {
   "cell_type": "markdown",
   "id": "17877243-1278-4fdc-a49d-6ff37d0d467c",
   "metadata": {},
   "source": [
    "Comprueba:\n",
    "\n",
    "Si A y B son equivalentes\n",
    "Si A y C NO son equivalentes\n",
    "Si A es mayor que C\n",
    "Si C es menor o igual que A\n",
    "Si B NO es equivalente a C"
   ]
  },
  {
   "cell_type": "code",
   "execution_count": null,
   "id": "fcd57574-d795-408d-a139-5b5ac326abd5",
   "metadata": {},
   "outputs": [],
   "source": [
    "A = 4\n",
    "B = \"Text\"\n",
    "C = 4.1\n",
    "\n",
    "print (\"Tipo A: \" + str(type(A)))\n",
    "print (\"Tipo B: \" + str(type(B)))\n",
    "print (\"Tipo C: \" + str(type(C)))\n",
    "\n",
    "if  str(type(A)) ==  str(type(B)):\n",
    "    print(\"A y B son equivalentes\")\n",
    "else:\n",
    "     print(\"A y B NO son equivalentes\")\n",
    "\n",
    "if  str(type(A)) !=  str(type(C)):\n",
    "    print(\"A y C son  NO equivalentes\")\n",
    "else:\n",
    "     print(\"A y C son equivalentes\")\n",
    "\n",
    "if A > C:\n",
    "    print (\"A as mayor que C\")\n",
    "else:\n",
    "    print (\"C es mayor o igual que A\")\n",
    "\n",
    "if A <= C:\n",
    "    print (\"A as mayor que C\")\n",
    "else:\n",
    "    print (\"C es mayor o igual que A\")\n",
    "\n",
    "\n",
    "if str(type(A)) !=  str(type(C)):\n",
    "    print(\"A y C NO son equivalentes\")\n",
    "else:\n",
    "     print(\"A y C son equivalentes\")"
   ]
  },
  {
   "cell_type": "markdown",
   "id": "50aef6ea-a6cd-4ec0-a79a-6c29e27f7800",
   "metadata": {},
   "source": [
    "Ejercicio 2\n",
    "Crea un programa donde se recojan dos inputs del usuario, y el output del programa sea si esos inputs son iguales o no"
   ]
  },
  {
   "cell_type": "code",
   "execution_count": null,
   "id": "7ff71e12-521e-487f-8f04-d29ac029a95c",
   "metadata": {},
   "outputs": [],
   "source": [
    "A = input(\"¿Valor 1:? \")\n",
    "B = input(\"¿Valor 2:? \")\n",
    "\n",
    "strClasA = type(A)\n",
    "strClasB = type(B)\n",
    "print (\"strClasA: \" + str(strClasA))\n",
    "print (\"strClasB: \" + str(strClasB))\n",
    "\n",
    "\n",
    "if (strClasA == strClasB):\n",
    "    print (\"Son del mismo tipo\")\n",
    "    if (A == B):\n",
    "        print (\"Son iguales\")\n",
    "    else:\n",
    "        print (\"No son iguales\")\n",
    "else:\n",
    "    print (\"No son del mismo tipo\")"
   ]
  },
  {
   "cell_type": "markdown",
   "id": "b056117c-b5c5-443a-9310-6dcc71de2af9",
   "metadata": {},
   "source": [
    "Ejercicio 3\n",
    "Mismo programa que en 2, pero en esta ocasión tienen que ser tres inputs y dos salidas. Una de las salidas que nos indique si todos son iguales, y la otra si al menos dos inputs sí que lo son"
   ]
  },
  {
   "cell_type": "code",
   "execution_count": null,
   "id": "05c19edd-d281-4e9c-aecf-ae0656c3cd61",
   "metadata": {},
   "outputs": [],
   "source": [
    "A = input(\"¿Valor A:? \")\n",
    "B = input(\"¿Valor B:? \")\n",
    "C = input(\"¿Valor C:? \")\n",
    "\n",
    "boolTresIguales = False\n",
    "boolDosIguales = False\n",
    "\n",
    "A = A.strip()\n",
    "B = B.strip()\n",
    "C = C.strip()\n",
    "\n",
    "#strClasA = type(A)\n",
    "#strClasB = type(B)\n",
    "#strClasC = type(C)\n",
    "\n",
    "#print (\"strClasA: \" + str(strClasA))\n",
    "#print (\"strClasB: \" + str(strClasB))\n",
    "#print (\"strClasC: \" + str(strClasC))\n",
    "\n",
    "#print (\"A: \" + A)\n",
    "#print (\"B: \" + B)\n",
    "#print (\"C: \" + C)\n",
    "\n",
    "if ((A == B) and (A == C) and (B == C)) :\n",
    "    boolTresIguales = True\n",
    "else:\n",
    "    boolTresIguales = False\n",
    "    if (A == B):\n",
    "        boolDosIguales = True\n",
    "    if (A == C):\n",
    "        boolDosIguales = True\n",
    "    if (B == C):\n",
    "       boolDosIguales = True\n",
    "\n",
    "if boolTresIguales:\n",
    "    print (\"Son los tres iguales.\")\n",
    "else:\n",
    "    if boolDosIguales:\n",
    "        print (\"Son dos iguales.\")\n",
    "    else:\n",
    "        print (\"Son todos distintos.\")\n",
    "\n",
    "#print (\"boolTresIguales: \" + str(boolTresIguales))\n",
    "#print (\"boolDosIguales: \" + str(boolDosIguales))"
   ]
  },
  {
   "cell_type": "markdown",
   "id": "9b4ebef9-9545-42d8-9410-c5f74d5ec283",
   "metadata": {},
   "source": [
    "Ejercicio 4\n",
    "Razona sin ejecutar código el output que obtendremos de las siguientes sentencias\n",
    "\n",
    "True and True and False\n",
    "not ((True or False) and (True or False))\n",
    "(False or False or False or True) and False\n",
    "not False and True and not True"
   ]
  },
  {
   "cell_type": "code",
   "execution_count": null,
   "id": "daaca0c6-5298-4de4-a6a1-272c8474fe5a",
   "metadata": {},
   "outputs": [],
   "source": [
    "1 = False 2 = False 3 = False 4 = False"
   ]
  },
  {
   "cell_type": "code",
   "execution_count": null,
   "id": "9a1f295f-5e04-49a7-9bc5-114437e297e8",
   "metadata": {},
   "outputs": [],
   "source": []
  },
  {
   "cell_type": "code",
   "execution_count": null,
   "id": "2c4e1473-25b4-4009-a093-607ed9383c3a",
   "metadata": {},
   "outputs": [],
   "source": []
  },
  {
   "cell_type": "code",
   "execution_count": null,
   "id": "2a8bfb48-1b72-4866-b3b9-b4c599d6cce5",
   "metadata": {},
   "outputs": [],
   "source": []
  },
  {
   "cell_type": "code",
   "execution_count": null,
   "id": "227e9739-e66c-425a-a10f-0e0fa47f2e7d",
   "metadata": {},
   "outputs": [],
   "source": []
  },
  {
   "cell_type": "code",
   "execution_count": null,
   "id": "541b7a59-9535-4c90-82e5-63f05f00b1d3",
   "metadata": {},
   "outputs": [],
   "source": []
  }
 ],
 "metadata": {
  "kernelspec": {
   "display_name": "Python 3 (ipykernel)",
   "language": "python",
   "name": "python3"
  },
  "language_info": {
   "codemirror_mode": {
    "name": "ipython",
    "version": 3
   },
   "file_extension": ".py",
   "mimetype": "text/x-python",
   "name": "python",
   "nbconvert_exporter": "python",
   "pygments_lexer": "ipython3",
   "version": "3.13.7"
  }
 },
 "nbformat": 4,
 "nbformat_minor": 5
}
