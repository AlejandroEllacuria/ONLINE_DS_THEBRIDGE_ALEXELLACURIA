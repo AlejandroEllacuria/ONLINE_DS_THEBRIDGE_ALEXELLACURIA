{
 "cells": [
  {
   "cell_type": "markdown",
   "id": "3bd8b9f8-f0f8-41db-954c-ade9ded627eb",
   "metadata": {},
   "source": [
    "## Ejercicio 1\n",
    "Eleva todos los elementos de la lista al cuadrado\n",
    "> ```ejer_2 = [1,2,3,4,5]```"
   ]
  },
  {
   "cell_type": "code",
   "execution_count": 15,
   "id": "cbe7fc9a-d88a-4f1b-8a62-5cf047df47af",
   "metadata": {},
   "outputs": [
    {
     "name": "stdout",
     "output_type": "stream",
     "text": [
      "El numero es:2 y su cuadrado es:4\n",
      "El numero es:4 y su cuadrado es:16\n",
      "El numero es:5 y su cuadrado es:25\n",
      "El numero es:6 y su cuadrado es:36\n",
      "El numero es:7 y su cuadrado es:49\n",
      "El numero es:8 y su cuadrado es:64\n",
      "El numero es:9 y su cuadrado es:81\n"
     ]
    }
   ],
   "source": [
    "listCuadrado = [2,4,5,6,7,8,9]\n",
    "i = 0\n",
    "for i in listCuadrado:\n",
    "    elevado = i**2\n",
    "    print (\"El numero es:\" + str(i) + \" y su cuadrado es:\" +  str(elevado))"
   ]
  },
  {
   "cell_type": "markdown",
   "id": "6060c47b-18ad-4639-8837-0934b1b29362",
   "metadata": {},
   "source": [
    "Ejercicio 2\n",
    "Haz un programa que detecte todos los duplicados de un elemento en una lista:\n",
    "\n",
    "Utiliza una variable duplicado para asignarle el valor del elemento del que queremos encontrar todos sus duplicados.\n",
    "El programa debe devolver todos los índices de los elementos duplicados.\n",
    "Aplícalo para encontrar los duplicados de \"un\", \"es\" y \"binario\" de:\n",
    "ejer_3 = [\"Un\", \"árbol\", \"binario\", \"es\", \"una\", \"estructura\", \"de\", \"un\", \"tipo\", \"particular\", \"a\", \"veces\", \"no\", \"es\", \"ni\", \"binario\"]"
   ]
  },
  {
   "cell_type": "code",
   "execution_count": 199,
   "id": "72f95623-f8b5-4ddf-a842-87980e6adf42",
   "metadata": {},
   "outputs": [
    {
     "name": "stdout",
     "output_type": "stream",
     "text": [
      "Hay un duplicado de:un en el indice: 0\n",
      "Hay un duplicado de:binario en el indice: 2\n",
      "Hay un duplicado de:es en el indice: 3\n",
      "Hay un duplicado de:un en el indice: 7\n",
      "Hay un duplicado de:es en el indice: 13\n",
      "Hay un duplicado de:binario en el indice: 15\n"
     ]
    }
   ],
   "source": [
    "listFrase = [\"Un\", \"árbol\", \"binario\", \"es\", \"una\", \"estructura\", \"de\", \"un\", \"tipo\", \"particular\", \"a\", \"veces\", \"no\", \"es\", \"ni\", \"binario\"]\n",
    "listBuscar= [\"un\",\"es\",\"binario\"]\n",
    "cont=0\n",
    "for i in listFrase:\n",
    "    for j in listBuscar:\n",
    "     if i.upper() == j.upper():\n",
    "         print(\"Hay un duplicado de:\" + j + \" en el indice: \" + str(cont))\n",
    "    cont = cont+1\n",
    "    "
   ]
  },
  {
   "cell_type": "markdown",
   "id": "1d3d82a3-5d4d-4585-9af0-170ba3b4b9f3",
   "metadata": {},
   "source": [
    "## Ejercicio 3\n",
    "1. ¿Cuántas veces se repite el 3 en la siguiente tupla?\n",
    "2. Crea una tupla nueva con los elementos desde la posicion 5 a la 10.\n",
    "3. ¿Cuántos elementos tiene la tupla `ejer_3`? \n",
    "> ```ejer_9 = (3, 20, 3, 47, 19, 3, 29, 45, 67, 78, 90, 3, 3, 5, 2, 4, 7, 9, 4, 2, 4, 3, 3, 4, 6, 7)```"
   ]
  },
  {
   "cell_type": "code",
   "execution_count": 200,
   "id": "eae82170-a3ec-4d27-b1d0-d57ac6e9297f",
   "metadata": {},
   "outputs": [
    {
     "name": "stdout",
     "output_type": "stream",
     "text": [
      "El número 3 se repite en la tupla 0 veces\n",
      "(19, 3, 29, 45, 67)\n",
      "AL tupla tiene 26 elementos.\n"
     ]
    }
   ],
   "source": [
    "tuplaEjemplo = (3, 20, 3, 47, 19, 3, 29, 45, 67, 78, 90, 3, 3, 5, 2, 4, 7, 9, 4, 2, 4, 3, 3, 4, 6, 7)\n",
    "cont  = 0 \n",
    "for i in tuplaEjemplo:\n",
    "    if i == 3:\n",
    "        cont3= cont3 +1\n",
    "print (\"El número 3 se repite en la tupla \" + str (cont) + \" veces\")\n",
    "\n",
    "tuplaRecortada = tuplaEjemplo [4:9]\n",
    "print ( tuplaRecortada)\n",
    "print(\"AL tupla tiene \" + str(len(tuplaEjemplo)) + \" elementos.\")"
   ]
  },
  {
   "cell_type": "markdown",
   "id": "348b8d44-1c18-4c3f-ae80-d8b2c04261b5",
   "metadata": {},
   "source": [
    "Ejercicio 4\n",
    "Comprueba si el numero 60 esta en la tupla del ejercicio 3"
   ]
  },
  {
   "cell_type": "code",
   "execution_count": 43,
   "id": "8519a10b-ba07-40a2-8fdd-efeb4955049d",
   "metadata": {},
   "outputs": [
    {
     "name": "stdout",
     "output_type": "stream",
     "text": [
      "El elemento 60 está en la tupla.\n"
     ]
    }
   ],
   "source": [
    "\n",
    "tuplaEjemplo = (3, 20, 3, 47, 19, 3, 29, 45, 67, 78, 90, 3, 3, 5, 2, 4, 7, 9, 4, 2, 4, 3, 3, 4, 6, 7)\n",
    "if 60 in tuplaEjemplo:\n",
    "    print(\"El elemento 60 está en la tupla.\")\n",
    "else:\n",
    "    print(\"El elemento 60 no está en la tupla.\")"
   ]
  },
  {
   "cell_type": "markdown",
   "id": "0594baa5-3661-4abe-88b1-750040738589",
   "metadata": {},
   "source": [
    "Ejercicio 5\n",
    "Convierte la tupla del ejercicio 3 en una lista\n",
    "Convierte la tupla del ejercicio 3 en un set\n",
    "Convierte la tupla del ejercicio 3 en un diccionario. Usa también los indices"
   ]
  },
  {
   "cell_type": "code",
   "execution_count": 54,
   "id": "f7bca469-8ecf-42f7-b9d7-ffbc88c1a01b",
   "metadata": {},
   "outputs": [
    {
     "name": "stdout",
     "output_type": "stream",
     "text": [
      "[3, 20, 3, 47, 19, 3, 29, 45, 67, 78, 90, 3, 3, 5, 2, 4, 7, 9, 4, 2, 4, 3, 3, 4, 6, 7]\n",
      "Tipo lista ejemplo: <class 'list'>\n",
      "{2, 3, 67, 5, 4, 7, 6, 9, 45, 78, 47, 19, 20, 90, 29}\n",
      "Tipo set ejemplo: <class 'set'>\n",
      "{0: 3, 1: 20, 2: 3, 3: 47, 4: 19, 5: 3, 6: 29, 7: 45, 8: 67, 9: 78, 10: 90, 11: 3, 12: 3, 13: 5, 14: 2, 15: 4, 16: 7, 17: 9, 18: 4, 19: 2, 20: 4, 21: 3, 22: 3, 23: 4, 24: 6, 25: 7}\n",
      "Tipo diccionario ejemplo: <class 'dict'>\n"
     ]
    }
   ],
   "source": [
    "tuplaEjemplo = (3, 20, 3, 47, 19, 3, 29, 45, 67, 78, 90, 3, 3, 5, 2, 4, 7, 9, 4, 2, 4, 3, 3, 4, 6, 7)\n",
    "\n",
    "listEjemplo = list(tuplaEjemplo)\n",
    "print (listEjemplo)\n",
    "print (\"Tipo lista ejemplo: \" + str(type(listEjemplo)))\n",
    "\n",
    "setEjemplo = set(tuplaEjemplo)\n",
    "print (setEjemplo)\n",
    "print (\"Tipo set ejemplo: \" + str(type(setEjemplo)))\n",
    "    \n",
    "diccEjemplo = {indice: valor for indice, valor in enumerate(tuplaEjemplo)}\n",
    "print (diccEjemplo)\n",
    "print (\"Tipo diccionario ejemplo: \" + str(type(diccEjemplo)))"
   ]
  },
  {
   "cell_type": "markdown",
   "id": "2dafc317-c97a-4d86-b394-fcf493bf215f",
   "metadata": {},
   "source": [
    "Ejercicio 6\n",
    "Multiplica todos los valores del diccionario\n",
    "\n",
    "ejer_6 = {1: 11, 2: 22, 3: 33, 4: 44, 5: 55}"
   ]
  },
  {
   "cell_type": "code",
   "execution_count": 62,
   "id": "e4c30908-9626-454d-b4c3-38dedd31ea39",
   "metadata": {},
   "outputs": [
    {
     "name": "stdout",
     "output_type": "stream",
     "text": [
      "{1: 22, 2: 44, 3: 66, 4: 88, 5: 110}\n"
     ]
    }
   ],
   "source": [
    "diccEjemplo = {1: 11, 2: 22, 3: 33, 4: 44, 5: 55}\n",
    "for i in diccEjemplo:\n",
    "    diccEjemplo[i] = diccEjemplo[i] * 2\n",
    "print(diccEjemplo)"
   ]
  },
  {
   "cell_type": "markdown",
   "id": "d6aeb844-24f6-4a4f-a511-cc0bce337b04",
   "metadata": {},
   "source": [
    "Ejercicio 7\n",
    "Crea un diccionario que describa un libro, con los siguientes campos o claves: \"titulo\",\"autor\",\"idioma original\",\"año de publicación\".\n",
    "Crea un a lista, llamada librería.\n",
    "Añade cuatro libros a tu elección a la librería."
   ]
  },
  {
   "cell_type": "code",
   "execution_count": 135,
   "id": "bf506859-fafa-4841-8c35-cfd2dac1ba25",
   "metadata": {},
   "outputs": [],
   "source": [
    "diccLibros = {\"Titulo\" : \"\",\n",
    "            \"Autor\" : \"\",\n",
    "            \"IdiomaOriginal\" : \"\",\n",
    "            \"AñoPublicacion\" : \"\"}\n",
    "listLibreria = list(diccLibros)\n",
    "listLibreria = [\n",
    "    {\"Titulo\":\"Titulo1\", \"Autor\":\"Autor1\", \"Idioma Original\":\"Idioma1\", \"AñoPublicacion\":\"Año1\"},\n",
    "    {\"Titulo\":\"Titulo2\", \"Autor\":\"Autor2\", \"Idioma Original\":\"Idioma2\", \"AñoPublicacion\":\"Año2\"},\n",
    "    {\"Titulo\":\"Titulo3\", \"Autor\":\"Autor3\", \"Idioma Original\":\"Idioma3\", \"AñoPublicacion\":\"Año3\"},\n",
    "    {\"Titulo\":\"Titulo4\", \"Autor\":\"Autor4\", \"Idioma Original\":\"Idioma4\", \"AñoPublicacion\":\"Año4\"}\n",
    "]\n",
    "#print (listLibreria)"
   ]
  },
  {
   "cell_type": "markdown",
   "id": "06b03e3e-8eb5-4f9a-8791-8bb0a85c5e8b",
   "metadata": {},
   "source": [
    "Ejercicio 8\n",
    "Modifica los valores del idioma de todos los libros del ejercicio anterior para que sea \"esperanto\"3"
   ]
  },
  {
   "cell_type": "code",
   "execution_count": 179,
   "id": "009a7187-a6a8-491e-bd75-841c7cb122d2",
   "metadata": {},
   "outputs": [
    {
     "name": "stdout",
     "output_type": "stream",
     "text": [
      "[{'Titulo': 'Titulo1', 'Autor': 'Autor1', 'IdiomaOriginal': 'Esperanto', 'AñoPublicacion': 'Año1'}, {'Titulo': 'Titulo2', 'Autor': 'Autor2', 'IdiomaOriginal': 'Esperanto', 'AñoPublicacion': 'Año2'}, {'Titulo': 'Titulo3', 'Autor': 'Autor3', 'IdiomaOriginal': 'Esperanto', 'AñoPublicacion': 'Año3'}, {'Titulo': 'Titulo4', 'Autor': 'Autor4', 'IdiomaOriginal': 'Esperanto', 'AñoPublicacion': 'Año4'}]\n"
     ]
    }
   ],
   "source": [
    "diccLibros = {\"Titulo\" : \"\",\n",
    "            \"Autor\" : \"\",\n",
    "            \"IdiomaOriginal\" : \"\",\n",
    "            \"AñoPublicacion\" : \"\"}\n",
    "listLibreria = list(diccLibros)\n",
    "cont=0\n",
    "listLibreria = [\n",
    "    {\"Titulo\":\"Titulo1\", \"Autor\":\"Autor1\", \"IdiomaOriginal\":\"Idioma1\", \"AñoPublicacion\":\"Año1\"},\n",
    "    {\"Titulo\":\"Titulo2\", \"Autor\":\"Autor2\", \"IdiomaOriginal\":\"Idioma2\", \"AñoPublicacion\":\"Año2\"},\n",
    "    {\"Titulo\":\"Titulo3\", \"Autor\":\"Autor3\", \"IdiomaOriginal\":\"Idioma3\", \"AñoPublicacion\":\"Año3\"},\n",
    "    {\"Titulo\":\"Titulo4\", \"Autor\":\"Autor4\", \"IdiomaOriginal\":\"Idioma4\", \"AñoPublicacion\":\"Año4\"}\n",
    "]\n",
    "#print(str(listLibreria))\n",
    "listLibreriaNew.clear()\n",
    "for i in listLibreria:\n",
    "    \n",
    "    i = dict(i)\n",
    "    i[\"IdiomaOriginal\"] = \"Esperanto\"\n",
    "    #listLibreriaNew.insert(cont,i)       \n",
    "    listLibreriaNew.append (i)\n",
    "    cont = cont + 1\n",
    "\n",
    "print(str(listLibreriaNew))\n",
    "\n"
   ]
  },
  {
   "cell_type": "markdown",
   "id": "67274408-df70-47cc-8fa0-e40c0d4d073d",
   "metadata": {},
   "source": [
    "Ejercicio 9\n",
    "Escribe un programa que dada una variable titulo busque los libros que hay en la librería con ese título. Si no se encuentra debe devolver el mensaje Ese no lo tengo, ¿mola?\n",
    "Pruena que el programa con uno de tus libros y con otro que no contenga tu librería."
   ]
  },
  {
   "cell_type": "code",
   "execution_count": 198,
   "id": "a2f543b1-ce5a-4150-af19-ade7356f574b",
   "metadata": {},
   "outputs": [
    {
     "name": "stdout",
     "output_type": "stream",
     "text": [
      "Tenemos el libro.\n",
      "Ese no lo tengo, ¿mola?.\n"
     ]
    }
   ],
   "source": [
    "def funBuscarLibro(strTitulo):\n",
    "    diccLibros = {\"Titulo\" : \"\",\n",
    "                \"Autor\" : \"\",\n",
    "                \"IdiomaOriginal\" : \"\",\n",
    "                \"AñoPublicacion\" : \"\"}\n",
    "    listLibreria = list(diccLibros)\n",
    "    cont=0\n",
    "    bolEstaLibro = False\n",
    "    listLibreria = [\n",
    "        {\"Titulo\":\"Titulo1\", \"Autor\":\"Autor1\", \"IdiomaOriginal\":\"Idioma1\", \"AñoPublicacion\":\"Año1\"},\n",
    "        {\"Titulo\":\"Titulo2\", \"Autor\":\"Autor2\", \"IdiomaOriginal\":\"Idioma2\", \"AñoPublicacion\":\"Año2\"},\n",
    "        {\"Titulo\":\"Titulo3\", \"Autor\":\"Autor3\", \"IdiomaOriginal\":\"Idioma3\", \"AñoPublicacion\":\"Año3\"},\n",
    "        {\"Titulo\":\"Titulo4\", \"Autor\":\"Autor4\", \"IdiomaOriginal\":\"Idioma4\", \"AñoPublicacion\":\"Año4\"}\n",
    "    ]\n",
    "    \n",
    "    for i in listLibreria:      \n",
    "        i = dict(i)\n",
    "        if str(i[\"Titulo\"]) == str(strTitulo):\n",
    "            bolEstaLibro = True\n",
    "    if bolEstaLibro == True:\n",
    "        print(\"Tenemos el libro.\")\n",
    "    else:\n",
    "        print(\"Ese no lo tengo, ¿mola?.\")\n",
    "        \n",
    "funBuscarLibro (\"Titulo1\")\n",
    "funBuscarLibro (\"Titulo11\")"
   ]
  },
  {
   "cell_type": "markdown",
   "id": "4be6dcaa-8bbf-4bb6-bcae-9b73851eb469",
   "metadata": {},
   "source": [
    "Ejercicio 10\n",
    "Convierte el programa del ejercicio 2 en una función al que se le pase el valor a buscar como un argumento posicional\n",
    "Utiliza una variable duplicado para asignarle el valor del elemento del que queremos encontrar todos sus duplicados.\n",
    "El programa debe devolver todos los índices de los elementos duplicados.\n",
    "Aplícalo para encontrar los duplicados de \"un\", \"es\" y \"binario\" de:\n",
    "ejer_3 = [\"Un\", \"árbol\", \"binario\", \"es\", \"una\", \"estructura\", \"de\", \"un\", \"tipo\", \"particular\", \"a\", \"veces\", \"no\", \"es\", \"ni\", \"binario\"]"
   ]
  },
  {
   "cell_type": "code",
   "execution_count": 202,
   "id": "80393b50-17cf-4ce6-9880-06c05975567f",
   "metadata": {},
   "outputs": [
    {
     "name": "stdout",
     "output_type": "stream",
     "text": [
      "Hay un duplicado de:un en el indice: 0\n",
      "Hay un duplicado de:binario en el indice: 2\n",
      "Hay un duplicado de:es en el indice: 3\n",
      "Hay un duplicado de:un en el indice: 7\n",
      "Hay un duplicado de:es en el indice: 13\n",
      "Hay un duplicado de:binario en el indice: 15\n"
     ]
    }
   ],
   "source": [
    "def funBuscarCadenaEnLista (listBuscar):\n",
    "    listFrase = [\"Un\", \"árbol\", \"binario\", \"es\", \"una\", \"estructura\", \"de\", \"un\", \"tipo\", \"particular\", \"a\", \"veces\", \"no\", \"es\", \"ni\", \"binario\"]\n",
    "    cont=0\n",
    "    for i in listFrase:\n",
    "        for j in listBuscar:\n",
    "         if i.upper() == j.upper():\n",
    "             print(\"Hay un duplicado de:\" + j + \" en el indice: \" + str(cont))\n",
    "        cont = cont+1\n",
    "\n",
    "listBuscar= [\"un\",\"es\",\"binario\"]\n",
    "funBuscarCadenaEnLista (listBuscar)"
   ]
  },
  {
   "cell_type": "markdown",
   "id": "a643cef1-380d-4e63-b65a-e71c22feb50c",
   "metadata": {},
   "source": [
    "Ejercicio 11\n",
    "Convierte el programa del ejercicio 9 en una función al que se le pasen como argumentos la librería, posicional,ç\n",
    "y el título, argumento keyword con valor \"ninguno\", por defecto."
   ]
  },
  {
   "cell_type": "code",
   "execution_count": 205,
   "id": "75c2fcaf-bf8f-4374-a476-c007d628ef74",
   "metadata": {},
   "outputs": [
    {
     "name": "stdout",
     "output_type": "stream",
     "text": [
      "Tenemos el libro.\n",
      "Ese no lo tengo, ¿mola?.\n"
     ]
    }
   ],
   "source": [
    "def funBuscarLibro(listLibreria,strTitulo):\n",
    "    cont=0\n",
    "    bolEstaLibro = False \n",
    "    for i in listLibreria:      \n",
    "        i = dict(i)\n",
    "        if str(i[\"Titulo\"]) == str(strTitulo):\n",
    "            bolEstaLibro = True\n",
    "    if bolEstaLibro == True:\n",
    "        print(\"Tenemos el libro.\")\n",
    "    else:\n",
    "        print(\"Ese no lo tengo, ¿mola?.\")\n",
    "\n",
    "\n",
    "diccLibros = {\"Titulo\" : \"\",\n",
    "        \"Autor\" : \"\",\n",
    "        \"IdiomaOriginal\" : \"\",\n",
    "        \"AñoPublicacion\" : \"\"}\n",
    "listLibreria = list(diccLibros)\n",
    "\n",
    "listLibreria = [\n",
    "{\"Titulo\":\"Titulo1\", \"Autor\":\"Autor1\", \"IdiomaOriginal\":\"Idioma1\", \"AñoPublicacion\":\"Año1\"},\n",
    "{\"Titulo\":\"Titulo2\", \"Autor\":\"Autor2\", \"IdiomaOriginal\":\"Idioma2\", \"AñoPublicacion\":\"Año2\"},\n",
    "{\"Titulo\":\"Titulo3\", \"Autor\":\"Autor3\", \"IdiomaOriginal\":\"Idioma3\", \"AñoPublicacion\":\"Año3\"},\n",
    "{\"Titulo\":\"Titulo4\", \"Autor\":\"Autor4\", \"IdiomaOriginal\":\"Idioma4\", \"AñoPublicacion\":\"Año4\"}\n",
    "]\n",
    "\n",
    "funBuscarLibro (listLibreria,\"Titulo1\")\n",
    "funBuscarLibro (listLibreria,\"Titulo11\")"
   ]
  },
  {
   "cell_type": "markdown",
   "id": "ef2f68ca-b135-4168-8cc7-6f690df20153",
   "metadata": {},
   "source": [
    "Ejercicio 12\n",
    "Solicitar al usuario que ingrese su dirección email. Imprimir un mensaje indicando si la\n",
    "dirección es válida o no, valiéndose de una función para decidirlo. Una dirección se considerará válida si contiene el símbolo \"@\"."
   ]
  },
  {
   "cell_type": "code",
   "execution_count": 208,
   "id": "015312aa-b4ad-47d9-8125-40534ebc5c36",
   "metadata": {},
   "outputs": [
    {
     "name": "stdin",
     "output_type": "stream",
     "text": [
      "Introduzca una Dieccion de email correcta: alex@blas.es\n"
     ]
    },
    {
     "name": "stdout",
     "output_type": "stream",
     "text": [
      "El mail es correcto\n"
     ]
    }
   ],
   "source": [
    "def funEmailCorrect(strEmail):\n",
    "    \n",
    "    if \"@\" in strEmail:\n",
    "        print(\"El mail es correcto\")\n",
    "    else:\n",
    "        print(\"El mail es incorrecto\")\n",
    "\n",
    "strEmail = input(\"Introduzca una Dieccion de email correcta:\")\n",
    "funEmailCorrect (strEmail)"
   ]
  },
  {
   "cell_type": "markdown",
   "id": "50eeefe6-8b63-4be5-8869-772d2593f758",
   "metadata": {},
   "source": [
    "Escribe una función que compruebe si un DNI es válido, devolviendo True en caso afirmativo.\n",
    "En primer lugar, el DNI debe tener entre 7 y 8 dígitos numéricos.\n",
    "Para saber si la letra del DNI es correcta puedes utilizar el siguiente fragmento de código:\n",
    "\n",
    "DNI= 55555555\n",
    "palabra='TRWAGMYFPDXBNJZSQVHLCKE'\n",
    "print('La letra del DNI es: ', palabra[DNI%23])"
   ]
  },
  {
   "cell_type": "code",
   "execution_count": 219,
   "id": "79ffc1f2-8fc7-43c9-979c-8797a5eeae92",
   "metadata": {},
   "outputs": [
    {
     "name": "stdin",
     "output_type": "stream",
     "text": [
      " Introduzca su DNI:  30695768K\n"
     ]
    },
    {
     "name": "stdout",
     "output_type": "stream",
     "text": [
      "DNI Inorrecto\n"
     ]
    }
   ],
   "source": [
    "def validar_dni(dni):\n",
    "    letras_validas = \"TRWAGMYFPDXBNJZSQVHLCKE\"\n",
    "    \n",
    "    if len(dni) != 9 or not dni[:-1].isdigit() or not dni[-1].isalpha():\n",
    "        return False\n",
    "\n",
    "    numeros = int(dni[:-1])\n",
    "    letra = dni[-1].upper()\n",
    "    \n",
    "    letra_correcta = letras_validas[numeros % 23]\n",
    "    \n",
    "    return letra == letra_correcta\n",
    "\n",
    "\n",
    "strDni = input (\" Introduzca su DNI: \")\n",
    "if validar_dni(strDni)==True:\n",
    "    print(\"DNI Correcto\")\n",
    "else:\n",
    "    print(\"DNI Inorrecto\")   "
   ]
  },
  {
   "cell_type": "code",
   "execution_count": null,
   "id": "d864d76a-d8f8-40ff-b2b9-e6c3da0243b0",
   "metadata": {},
   "outputs": [],
   "source": []
  },
  {
   "cell_type": "code",
   "execution_count": null,
   "id": "3a91c9e1-4160-404c-8b79-c75957f9a1c4",
   "metadata": {},
   "outputs": [],
   "source": []
  }
 ],
 "metadata": {
  "kernelspec": {
   "display_name": "Python 3 (ipykernel)",
   "language": "python",
   "name": "python3"
  },
  "language_info": {
   "codemirror_mode": {
    "name": "ipython",
    "version": 3
   },
   "file_extension": ".py",
   "mimetype": "text/x-python",
   "name": "python",
   "nbconvert_exporter": "python",
   "pygments_lexer": "ipython3",
   "version": "3.13.7"
  }
 },
 "nbformat": 4,
 "nbformat_minor": 5
}
