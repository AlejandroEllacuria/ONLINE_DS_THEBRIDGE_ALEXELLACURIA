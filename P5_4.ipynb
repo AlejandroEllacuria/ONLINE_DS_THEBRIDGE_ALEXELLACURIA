{
 "cells": [
  {
   "cell_type": "markdown",
   "id": "5ab42337-af65-4b72-8cbf-ca0e5ba66bb8",
   "metadata": {},
   "source": [
    "PARTE I\n",
    "En este ejercicio debes simular un chatbot al que le haremos pedidos de pizzas.\n",
    "\n",
    "El chatbot tiene que saludar con un: \"Buenas tardes, bienvenido al servicio de pedido online, el precio de nuestra pizzas es de 8,95 para la familiar o de 9,90 para la mediana ¿Cuántas pizzas familiares desea?\"\n",
    "El ususario tiene que introducir un número de pizzas en una variable llamada 'pizz_familiar'\n",
    "El chatbot debe responder: \"Estupendo, ¿cuántas pizzas medianas desea?\" y guardar el número de pizzas medianas en otra variable 'pizz_mediana'\n",
    "Además debe responder del chatbot: \"Estupendo, se están preparando 'pizz' pizzas familiares y 'pizz_mediana' pizzas medianas. Digame su dirección\"\n",
    "El ususario tiene que introducir una direccion en formato String en otra variable llamada 'direcc'\n",
    "El programa debe calcular el monto total\n",
    "Respuesta final del chatbot: \"Le mandaremos las '(número total de pizzas)' pizzas a la dirección 'direcc'. Serán . Muchas gracias por su pedido.\""
   ]
  },
  {
   "cell_type": "code",
   "execution_count": null,
   "id": "b48948de-5512-4a83-a017-047f89ee3b51",
   "metadata": {},
   "outputs": [],
   "source": [
    "\n",
    "numPrecioFam = 9.9\n",
    "numPrecioMed = 8.95\n",
    "intPrecio = 0\n",
    "intTotalPizz =0\n",
    "intTotalPizzPrecio =0 \n",
    "direcc =\"\"\n",
    "num_Pizz_familiar = 0\n",
    "num_Pizz_mediana = 0\n",
    "intPizz_mediana = 0\n",
    "intPizz_familiar = 0\n",
    "\n",
    "strCadena =\"Buenas tardes, bienvenido al servicio de pedido online, el precio de nuestra pizzas es de 8,95 para la familiar o de 9,90 para la mediana ¿Cuántas pizzas familiares desea?\"\n",
    "pizz_familiar = input(strCadena)\n",
    "\n",
    "try:\n",
    "    intPizz_familiar = int(pizz_familiar)\n",
    "except:\n",
    "    print(\"El numero de pizzas familiares no es correcto\")\n",
    "    exit()\n",
    "    \n",
    "strCadena = \"Estupendo, ¿cuántas pizzas medianas desea?\"\n",
    "pizz_mediana= input(strCadena)\n",
    "\n",
    "try:\n",
    "    intPizz_mediana = int(pizz_mediana)  \n",
    "except:\n",
    "    print(\"El numero de pizzas medianas no es correcto\")\n",
    "    exit()\n",
    "    \n",
    "intTotalPizzPrecio = (int(intPizz_familiar) * numPrecioFam) + (int(intPizz_mediana) * numPrecioMed)\n",
    "intTotalPizz = intPizz_familiar_int + intPizz_mediana\n",
    "\n",
    "direcc = input(\"Estupendo, se están preparando \" + pizz_familiar + \" pizzas familiares y \" + pizz_mediana + \" pizzas medianas. Digame su dirección?\")               \n",
    "\n",
    "print (\"Le mandaremos las\" + str(intTotalPizz) + \" pizzas a la dirección: \" + direcc + \". Serán \" + str(intTotalPizzPrecio) + \" €. Muchas gracias por su pedido.\")"
   ]
  },
  {
   "cell_type": "markdown",
   "id": "fdf442e0-641c-4343-9d19-323ca1ed5a38",
   "metadata": {},
   "source": [
    "Parte II\n",
    "Crea un programa que realice las siguientes acciones:\n",
    "\n",
    "Solicite al usuario que introduzca 3 números enteros separados por comas (por ejemplo: 1,2,3).\n",
    "Convierta esa entrada en una lista de números enteros.\n",
    "Utilizando funciones built-in, determine el número máximo, el número mínimo y la suma total de los números introducidos.\n",
    "Determine la verdad o falsedad de la siguiente afirmación: \"El número máximo menos el número mínimo es igual a la suma total dividida por 5\".\n",
    "Muestre los resultados utilizando print."
   ]
  },
  {
   "cell_type": "code",
   "execution_count": null,
   "id": "676bd250-fc68-4a87-b75e-2586cfe89053",
   "metadata": {},
   "outputs": [],
   "source": [
    "numMax = 0\n",
    "numMin = 0\n",
    "numTotal = 0\n",
    "numero = 0\n",
    "bolCondicion = False\n",
    "\n",
    "strCadena =\"introduzca 3 números enteros separados por comas (por ejemplo: 1,2,3)\"\n",
    "strResult = input(strCadena)\n",
    "listNumeros = strResult.split(\",\")\n",
    "numMin = listNumeros[0]\n",
    "for numero in listNumeros:\n",
    "    if int(numero) > int(numMax):\n",
    "        numMax = numero\n",
    "    if int(numero) < int(numMin):\n",
    "        numMin = numero\n",
    "    numTotal = int(numTotal) + int(numero)\n",
    "    \n",
    "if ((int(numMax) - int(numMin)) ==  (int(numTotal) / 5)):\n",
    "    bolCondicion = True\n",
    "    \n",
    "if  bolCondicion == True:\n",
    "    print(\"Máximo:\" + str(numMax))\n",
    "    print(\"Mínimo:\" + str(numMin))\n",
    "    print(\"Total:\" + str(numTotal))"
   ]
  },
  {
   "cell_type": "code",
   "execution_count": null,
   "id": "193661f7-3a7b-4834-a93c-d5243aee740c",
   "metadata": {},
   "outputs": [],
   "source": []
  },
  {
   "cell_type": "code",
   "execution_count": null,
   "id": "c941a836-1abd-426d-846b-279ea7ad909f",
   "metadata": {},
   "outputs": [],
   "source": []
  },
  {
   "cell_type": "code",
   "execution_count": null,
   "id": "e61cb413-c853-4757-a384-0c93d0f5e02a",
   "metadata": {},
   "outputs": [],
   "source": []
  }
 ],
 "metadata": {
  "kernelspec": {
   "display_name": "Python 3 (ipykernel)",
   "language": "python",
   "name": "python3"
  },
  "language_info": {
   "codemirror_mode": {
    "name": "ipython",
    "version": 3
   },
   "file_extension": ".py",
   "mimetype": "text/x-python",
   "name": "python",
   "nbconvert_exporter": "python",
   "pygments_lexer": "ipython3",
   "version": "3.13.7"
  }
 },
 "nbformat": 4,
 "nbformat_minor": 5
}
