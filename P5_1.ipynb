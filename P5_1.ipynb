{
 "cells": [
  {
   "cell_type": "markdown",
   "id": "2dfe2327-aed4-4cad-bfd7-78db195f28fa",
   "metadata": {},
   "source": [
    "Ejercicio 1\n",
    "Crea dos variables numericas: un int y un float\n",
    "Comprueba sus tipos\n",
    "Sumalas en otra nueva\n",
    "¿De qué tipo es la nueva variable?\n",
    "Elimina las dos primeras variables creadas"
   ]
  },
  {
   "cell_type": "code",
   "execution_count": null,
   "id": "2262bcff-a75a-4293-b535-4b50d1da9ba2",
   "metadata": {},
   "outputs": [],
   "source": [
    "numEntero = 10\n",
    "floatReal = 5.5\n",
    "print(type (numEntero))\n",
    "print(type (floatReal))\n",
    "floatTotal = numEntero + floatReal\n",
    "print(type (floatTotal))\n",
    "del numEntero\n",
    "del floatReal"
   ]
  },
  {
   "cell_type": "markdown",
   "id": "aefd20ec-7cca-4899-8d83-95f50f436000",
   "metadata": {},
   "source": [
    "Ejercicio 2\n",
    "Escribe un programa para pasar de grados a radianes. Hay que usar input. Recuerda que la conversión se realiza mediante\n",
    "\n",
    "radianes = grados*(pi/180)"
   ]
  },
  {
   "cell_type": "code",
   "execution_count": null,
   "id": "dae39c63-6722-46b5-bfc2-98dbbd5e1e23",
   "metadata": {},
   "outputs": [],
   "source": [
    "floatRad = float(input (\"Introduce los grados que quieres convertir a Radianes:\"))\n",
    "conversion = (3.1417/180)\n",
    "#print(conversion)\n",
    "#print(type(conversion))\n",
    "floatGrados = (floatRad * conversion) \n",
    "print (\"Los grados son: \" + str(floatGrados))"
   ]
  },
  {
   "cell_type": "markdown",
   "id": "15432850-4104-479e-a7d7-d5dc295a3747",
   "metadata": {},
   "source": [
    "Ejercicio 3\n",
    "Escribe un programa que calcule el area de un paralelogramo (base x altura). También con input"
   ]
  },
  {
   "cell_type": "code",
   "execution_count": null,
   "id": "1ca34bb7-68d1-495a-a5de-19d0f786b1be",
   "metadata": {},
   "outputs": [],
   "source": [
    "print (\"Vamos a calcular el area de un rectangulo, para lo cual introduzca los datos que le solicitamos:\")\n",
    "floatAltura = float(input (\"Introduce la altura del rectangulo:\"))\n",
    "floatBase = float(input (\"Introduce la base del rectangulo:\"))\n",
    "print (\"El area resultante es : \" + str(floatAltura * floatBase))"
   ]
  },
  {
   "cell_type": "markdown",
   "id": "e750c7c5-3442-4eb0-9218-2c79b155d0c1",
   "metadata": {},
   "source": [
    "Ejercicio 4\n",
    "Escribe un programa que calcule el area de un paralelogramo (base x altura). También con input. En este caso debe ser capaz de admitir valores reales, con decimales, para base y altura en español. (PISTA: Recuerda que tendrás que hacer uso del método replace)"
   ]
  },
  {
   "cell_type": "code",
   "execution_count": null,
   "id": "6a80e0be-ddcb-42f9-836a-8a3bd0030858",
   "metadata": {},
   "outputs": [],
   "source": [
    "print (\"Vamos a calcular el area de un rectangulo, para lo cual introduzca los datos que le solicitamos:\")\n",
    "\n",
    "strAltura = input (\"Introduce la altura del rectangulo:\")\n",
    "strAltura = strAltura.replace(\",\",\".\")\n",
    "if float( strAltura):  \n",
    "    floatAltura = float(strAltura)\n",
    "else:\n",
    "    print (\"El dato no es correcto.\")\n",
    "    #break\n",
    "\n",
    "strBase = input (\"Introduce la base del rectangulo:\")\n",
    "strBase = strBase.replace(\",\",\".\")\n",
    "if float( strBase):\n",
    "    floatBase = float(strBase)\n",
    "else:\n",
    "    print (\"El dato no es correcto.\")\n",
    "    #break\n",
    "\n",
    "\n",
    "print (\"El area resultante es : \" + str(floatAltura * floatBase))"
   ]
  },
  {
   "cell_type": "markdown",
   "id": "3ce9353b-df72-4793-a4bd-9edb4cd0ed30",
   "metadata": {},
   "source": [
    "## Ejercicio 5\n",
    "Complete el siguiente código para solicitar al usuario su nombre y su edad. Luego, calcule en qué año nació el usuario y muestre el resultado."
   ]
  },
  {
   "cell_type": "code",
   "execution_count": null,
   "id": "2a9bb4ae-bb13-43c0-ae70-23c9262b9a0f",
   "metadata": {},
   "outputs": [],
   "source": [
    "strNombre = input(\"¿Cuál es tu nombre? \")\n",
    "strEdad = (input(\"¿Cuál es tu edad? \"))\n",
    "\n",
    "try:\n",
    "    intEdad = int(strEdad)\n",
    "    if type(intEdad) == int:  \n",
    "        año_actual = 2025 \n",
    "        año_nacimiento = año_actual - intEdad\n",
    "        print(f\"{strNombre}, naciste en el año {año_nacimiento}.\")\n",
    "    else:\n",
    "        print(\"La edad no tiene un valor valido.\")\n",
    "except ValueError:\n",
    "    print(\"La edad no tiene un valor valido.\")\n"
   ]
  },
  {
   "cell_type": "code",
   "execution_count": null,
   "id": "0b79ecf2-ef87-44d1-b3fe-dd7c4a2a506e",
   "metadata": {},
   "outputs": [],
   "source": []
  },
  {
   "cell_type": "code",
   "execution_count": null,
   "id": "068bba06-6147-468a-b26d-90b93cea33dd",
   "metadata": {},
   "outputs": [],
   "source": []
  },
  {
   "cell_type": "code",
   "execution_count": null,
   "id": "3a8e90bd-5074-4c26-bfd1-fd3d3978a663",
   "metadata": {},
   "outputs": [],
   "source": []
  }
 ],
 "metadata": {
  "kernelspec": {
   "display_name": "Python 3 (ipykernel)",
   "language": "python",
   "name": "python3"
  },
  "language_info": {
   "codemirror_mode": {
    "name": "ipython",
    "version": 3
   },
   "file_extension": ".py",
   "mimetype": "text/x-python",
   "name": "python",
   "nbconvert_exporter": "python",
   "pygments_lexer": "ipython3",
   "version": "3.13.7"
  }
 },
 "nbformat": 4,
 "nbformat_minor": 5
}
